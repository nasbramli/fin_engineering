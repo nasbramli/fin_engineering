{
 "cells": [
  {
   "cell_type": "markdown",
   "metadata": {},
   "source": [
    "# QF627 Pre-Course Workshop | Introduction to Programming\n",
    "## Problem-Sets for Exercise 0 | `Questions`"
   ]
  },
  {
   "cell_type": "markdown",
   "metadata": {},
   "source": [
    "> Hi Team,\n",
    "\n",
    "> The current document contains `exercise questions` to help you to consolidate your learning up to this point.\n",
    "\n",
    "> On the one hand, this will be a `good revision` of what you `have learned` from the lessons (and assigned readings). On the other hand, these exercise questions are also designed as a `pathway to your learning` in the `upcoming lessons`. \n",
    "\n",
    "> It may be that you cannot answer every question. If you are unsure about how to answer a question, `look for clues` in the `review scripts` and `assigned readings`. \n",
    "\n",
    "> For each question, please make sure to assign your answers into objects. Here is our convention for the current assignment. For your answer to each question, please `use capital letter A`, `followed by the numerical value of the question`—that is, if you store your `answer to Question 1`, then it should be an object named `A1`.\n",
    "\n",
    "> Upon completion of your work, please `submit` your `.ipynb` file via eLearn."
   ]
  },
  {
   "cell_type": "markdown",
   "metadata": {},
   "source": [
    "### Please import necessary packages (modules, libraries; i.e., `numpy`, `matplotlib`, and `pandas`)"
   ]
  },
  {
   "cell_type": "code",
   "execution_count": 151,
   "metadata": {},
   "outputs": [],
   "source": [
    "import numpy as np\n",
    "import matplotlib.pyplot as plt\n",
    "import pandas as pd"
   ]
  },
  {
   "cell_type": "markdown",
   "metadata": {},
   "source": [
    "### Question 1. Under the `Problem-sets for Exercise` tab you will find 12 CSV files. Please read the 12 CSV files. Then, please merge the 12 CSV files into a single dataset."
   ]
  },
  {
   "cell_type": "code",
   "execution_count": 171,
   "metadata": {},
   "outputs": [
    {
     "data": {
      "text/html": [
       "<div>\n",
       "<style scoped>\n",
       "    .dataframe tbody tr th:only-of-type {\n",
       "        vertical-align: middle;\n",
       "    }\n",
       "\n",
       "    .dataframe tbody tr th {\n",
       "        vertical-align: top;\n",
       "    }\n",
       "\n",
       "    .dataframe thead th {\n",
       "        text-align: right;\n",
       "    }\n",
       "</style>\n",
       "<table border=\"1\" class=\"dataframe\">\n",
       "  <thead>\n",
       "    <tr style=\"text-align: right;\">\n",
       "      <th></th>\n",
       "      <th>Order ID</th>\n",
       "      <th>Product</th>\n",
       "      <th>Quantity Ordered</th>\n",
       "      <th>Price Each</th>\n",
       "      <th>Order Date</th>\n",
       "      <th>Purchase Address</th>\n",
       "    </tr>\n",
       "  </thead>\n",
       "  <tbody>\n",
       "    <tr>\n",
       "      <th>0</th>\n",
       "      <td>141234</td>\n",
       "      <td>iPhone</td>\n",
       "      <td>1</td>\n",
       "      <td>700</td>\n",
       "      <td>01/22/19 21:25</td>\n",
       "      <td>944 Walnut St, Boston, MA 02215</td>\n",
       "    </tr>\n",
       "    <tr>\n",
       "      <th>1</th>\n",
       "      <td>141235</td>\n",
       "      <td>Lightning Charging Cable</td>\n",
       "      <td>1</td>\n",
       "      <td>14.95</td>\n",
       "      <td>01/28/19 14:15</td>\n",
       "      <td>185 Maple St, Portland, OR 97035</td>\n",
       "    </tr>\n",
       "    <tr>\n",
       "      <th>2</th>\n",
       "      <td>141236</td>\n",
       "      <td>Wired Headphones</td>\n",
       "      <td>2</td>\n",
       "      <td>11.99</td>\n",
       "      <td>01/17/19 13:33</td>\n",
       "      <td>538 Adams St, San Francisco, CA 94016</td>\n",
       "    </tr>\n",
       "    <tr>\n",
       "      <th>3</th>\n",
       "      <td>141237</td>\n",
       "      <td>27in FHD Monitor</td>\n",
       "      <td>1</td>\n",
       "      <td>149.99</td>\n",
       "      <td>01/05/19 20:33</td>\n",
       "      <td>738 10th St, Los Angeles, CA 90001</td>\n",
       "    </tr>\n",
       "    <tr>\n",
       "      <th>4</th>\n",
       "      <td>141238</td>\n",
       "      <td>Wired Headphones</td>\n",
       "      <td>1</td>\n",
       "      <td>11.99</td>\n",
       "      <td>01/25/19 11:59</td>\n",
       "      <td>387 10th St, Austin, TX 73301</td>\n",
       "    </tr>\n",
       "    <tr>\n",
       "      <th>...</th>\n",
       "      <td>...</td>\n",
       "      <td>...</td>\n",
       "      <td>...</td>\n",
       "      <td>...</td>\n",
       "      <td>...</td>\n",
       "      <td>...</td>\n",
       "    </tr>\n",
       "    <tr>\n",
       "      <th>186845</th>\n",
       "      <td>319666</td>\n",
       "      <td>Lightning Charging Cable</td>\n",
       "      <td>1</td>\n",
       "      <td>14.95</td>\n",
       "      <td>12/11/19 20:58</td>\n",
       "      <td>14 Madison St, San Francisco, CA 94016</td>\n",
       "    </tr>\n",
       "    <tr>\n",
       "      <th>186846</th>\n",
       "      <td>319667</td>\n",
       "      <td>AA Batteries (4-pack)</td>\n",
       "      <td>2</td>\n",
       "      <td>3.84</td>\n",
       "      <td>12/01/19 12:01</td>\n",
       "      <td>549 Willow St, Los Angeles, CA 90001</td>\n",
       "    </tr>\n",
       "    <tr>\n",
       "      <th>186847</th>\n",
       "      <td>319668</td>\n",
       "      <td>Vareebadd Phone</td>\n",
       "      <td>1</td>\n",
       "      <td>400</td>\n",
       "      <td>12/09/19 06:43</td>\n",
       "      <td>273 Wilson St, Seattle, WA 98101</td>\n",
       "    </tr>\n",
       "    <tr>\n",
       "      <th>186848</th>\n",
       "      <td>319669</td>\n",
       "      <td>Wired Headphones</td>\n",
       "      <td>1</td>\n",
       "      <td>11.99</td>\n",
       "      <td>12/03/19 10:39</td>\n",
       "      <td>778 River St, Dallas, TX 75001</td>\n",
       "    </tr>\n",
       "    <tr>\n",
       "      <th>186849</th>\n",
       "      <td>319670</td>\n",
       "      <td>Bose SoundSport Headphones</td>\n",
       "      <td>1</td>\n",
       "      <td>99.99</td>\n",
       "      <td>12/21/19 21:45</td>\n",
       "      <td>747 Chestnut St, Los Angeles, CA 90001</td>\n",
       "    </tr>\n",
       "  </tbody>\n",
       "</table>\n",
       "<p>186850 rows × 6 columns</p>\n",
       "</div>"
      ],
      "text/plain": [
       "       Order ID                     Product Quantity Ordered Price Each  \\\n",
       "0        141234                      iPhone                1        700   \n",
       "1        141235    Lightning Charging Cable                1      14.95   \n",
       "2        141236            Wired Headphones                2      11.99   \n",
       "3        141237            27in FHD Monitor                1     149.99   \n",
       "4        141238            Wired Headphones                1      11.99   \n",
       "...         ...                         ...              ...        ...   \n",
       "186845   319666    Lightning Charging Cable                1      14.95   \n",
       "186846   319667       AA Batteries (4-pack)                2       3.84   \n",
       "186847   319668             Vareebadd Phone                1        400   \n",
       "186848   319669            Wired Headphones                1      11.99   \n",
       "186849   319670  Bose SoundSport Headphones                1      99.99   \n",
       "\n",
       "            Order Date                        Purchase Address  \n",
       "0       01/22/19 21:25         944 Walnut St, Boston, MA 02215  \n",
       "1       01/28/19 14:15        185 Maple St, Portland, OR 97035  \n",
       "2       01/17/19 13:33   538 Adams St, San Francisco, CA 94016  \n",
       "3       01/05/19 20:33      738 10th St, Los Angeles, CA 90001  \n",
       "4       01/25/19 11:59           387 10th St, Austin, TX 73301  \n",
       "...                ...                                     ...  \n",
       "186845  12/11/19 20:58  14 Madison St, San Francisco, CA 94016  \n",
       "186846  12/01/19 12:01    549 Willow St, Los Angeles, CA 90001  \n",
       "186847  12/09/19 06:43        273 Wilson St, Seattle, WA 98101  \n",
       "186848  12/03/19 10:39          778 River St, Dallas, TX 75001  \n",
       "186849  12/21/19 21:45  747 Chestnut St, Los Angeles, CA 90001  \n",
       "\n",
       "[186850 rows x 6 columns]"
      ]
     },
     "execution_count": 171,
     "metadata": {},
     "output_type": "execute_result"
    }
   ],
   "source": [
    "months=['January', 'February', 'March', \n",
    "       'April', 'May', 'June', 'July', \n",
    "       'August', 'September', 'October', \n",
    "       'November', 'December']\n",
    "\n",
    "placeholder = []\n",
    "\n",
    "for i in months:\n",
    "    placeholder\\\n",
    "    .append(pd\\\n",
    "           .read_csv(\"Exercise_Data_\" + str(i) + \".csv\")\n",
    "           )\n",
    "\n",
    "\n",
    "our_data=\\\n",
    "(\n",
    "    pd.concat\n",
    "    (\n",
    "        placeholder,\n",
    "        ignore_index = True\n",
    "    )\n",
    ")\n",
    "\n",
    "our_data"
   ]
  },
  {
   "cell_type": "markdown",
   "metadata": {},
   "source": [
    "### <font color=\"green\">***Now let's clean up the dataset :)***</font>\n",
    "\n",
    "> The first step in this exercise is figuring out what we need to clean."
   ]
  },
  {
   "cell_type": "markdown",
   "metadata": {},
   "source": [
    "### Question 2. Please remove rows of NAN"
   ]
  },
  {
   "cell_type": "code",
   "execution_count": 172,
   "metadata": {},
   "outputs": [
    {
     "name": "stdout",
     "output_type": "stream",
     "text": [
      "  Order ID                   Product Quantity Ordered Price Each  \\\n",
      "0   141234                    iPhone                1        700   \n",
      "1   141235  Lightning Charging Cable                1      14.95   \n",
      "2   141236          Wired Headphones                2      11.99   \n",
      "\n",
      "       Order Date                       Purchase Address  \n",
      "0  01/22/19 21:25        944 Walnut St, Boston, MA 02215  \n",
      "1  01/28/19 14:15       185 Maple St, Portland, OR 97035  \n",
      "2  01/17/19 13:33  538 Adams St, San Francisco, CA 94016  \n"
     ]
    }
   ],
   "source": [
    "print(our_data.head(3))"
   ]
  },
  {
   "cell_type": "code",
   "execution_count": 173,
   "metadata": {},
   "outputs": [
    {
     "name": "stdout",
     "output_type": "stream",
     "text": [
      "  Order ID                     Product Quantity Ordered Price Each  \\\n",
      "0   141234                      iPhone                1        700   \n",
      "1   141235    Lightning Charging Cable                1      14.95   \n",
      "2   141236            Wired Headphones                2      11.99   \n",
      "3   141237            27in FHD Monitor                1     149.99   \n",
      "4   141238            Wired Headphones                1      11.99   \n",
      "5   141239      AAA Batteries (4-pack)                1       2.99   \n",
      "6   141240      27in 4K Gaming Monitor                1     389.99   \n",
      "7   141241        USB-C Charging Cable                1      11.95   \n",
      "8   141242  Bose SoundSport Headphones                1      99.99   \n",
      "9   141243    Apple Airpods Headphones                1        150   \n",
      "\n",
      "       Order Date                         Purchase Address  \n",
      "0  01/22/19 21:25          944 Walnut St, Boston, MA 02215  \n",
      "1  01/28/19 14:15         185 Maple St, Portland, OR 97035  \n",
      "2  01/17/19 13:33    538 Adams St, San Francisco, CA 94016  \n",
      "3  01/05/19 20:33       738 10th St, Los Angeles, CA 90001  \n",
      "4  01/25/19 11:59            387 10th St, Austin, TX 73301  \n",
      "5  01/29/19 20:22   775 Willow St, San Francisco, CA 94016  \n",
      "6  01/26/19 12:16       979 Park St, Los Angeles, CA 90001  \n",
      "7  01/05/19 12:04      181 6th St, San Francisco, CA 94016  \n",
      "8  01/01/19 10:30     867 Willow St, Los Angeles, CA 90001  \n",
      "9  01/22/19 21:20  657 Johnson St, San Francisco, CA 94016  \n"
     ]
    }
   ],
   "source": [
    "our_data = our_data.dropna()\n",
    "print(our_data.head(10))"
   ]
  },
  {
   "cell_type": "code",
   "execution_count": 174,
   "metadata": {},
   "outputs": [
    {
     "name": "stdout",
     "output_type": "stream",
     "text": [
      "Variable                  Type         Data/Info\n",
      "------------------------------------------------\n",
      "best_month                str          01\n",
      "best_month_revenue        float        1813586.44\n",
      "city_revenue              Series       City\\nAtlanta          14<...>s Revenue, dtype: float64\n",
      "city_soldprod             Series       City\\nAtlanta           8<...>y Ordered, dtype: float64\n",
      "cols_change_type          list         n=2\n",
      "df                        Series       0         01/22/19 21:25\\<...>th: 186305, dtype: object\n",
      "i                         str          December\n",
      "month                     list         n=12\n",
      "monthly_revenue           Series       Month\\n01            1813<...>s Revenue, dtype: float64\n",
      "months                    list         n=12\n",
      "np                        module       <module 'numpy' from '/Us<...>kages/numpy/__init__.py'>\n",
      "our_data                  DataFrame           Order ID          <...>[186305 rows x 6 columns]\n",
      "our_data_dropdate         Series       0       01/22/19 21:25\\n1<...>ngth: 9697, dtype: object\n",
      "pd                        module       <module 'pandas' from '/U<...>ages/pandas/__init__.py'>\n",
      "placeholder               list         n=12\n",
      "plt                       module       <module 'matplotlib.pyplo<...>es/matplotlib/pyplot.py'>\n",
      "top_city_revenue          str          San Francisco\n",
      "top_city_revenue_value    float        433103.45\n",
      "top_city_soldprod         str          San Francisco\n",
      "top_city_soldprod_value   float        2648.0\n"
     ]
    }
   ],
   "source": [
    "%whos"
   ]
  },
  {
   "cell_type": "markdown",
   "metadata": {},
   "source": [
    "### Question 3. Please remove text in `Order Date` column"
   ]
  },
  {
   "cell_type": "code",
   "execution_count": 129,
   "metadata": {},
   "outputs": [
    {
     "name": "stdout",
     "output_type": "stream",
     "text": [
      "0         01/22/19 21:25\n",
      "1         01/28/19 14:15\n",
      "2         01/17/19 13:33\n",
      "3         01/05/19 20:33\n",
      "4         01/25/19 11:59\n",
      "               ...      \n",
      "186845    12/11/19 20:58\n",
      "186846    12/01/19 12:01\n",
      "186847    12/09/19 06:43\n",
      "186848    12/03/19 10:39\n",
      "186849    12/21/19 21:45\n",
      "Name: Order Date, Length: 186305, dtype: object\n"
     ]
    }
   ],
   "source": [
    "df = our_data.pop(\"Order Date\")\n",
    "print(df)"
   ]
  },
  {
   "cell_type": "code",
   "execution_count": 130,
   "metadata": {},
   "outputs": [
    {
     "name": "stdout",
     "output_type": "stream",
     "text": [
      "       Order ID                     Product Quantity Ordered Price Each  \\\n",
      "0        141234                      iPhone                1        700   \n",
      "1        141235    Lightning Charging Cable                1      14.95   \n",
      "2        141236            Wired Headphones                2      11.99   \n",
      "3        141237            27in FHD Monitor                1     149.99   \n",
      "4        141238            Wired Headphones                1      11.99   \n",
      "...         ...                         ...              ...        ...   \n",
      "186845   319666    Lightning Charging Cable                1      14.95   \n",
      "186846   319667       AA Batteries (4-pack)                2       3.84   \n",
      "186847   319668             Vareebadd Phone                1        400   \n",
      "186848   319669            Wired Headphones                1      11.99   \n",
      "186849   319670  Bose SoundSport Headphones                1      99.99   \n",
      "\n",
      "                              Purchase Address  \n",
      "0              944 Walnut St, Boston, MA 02215  \n",
      "1             185 Maple St, Portland, OR 97035  \n",
      "2        538 Adams St, San Francisco, CA 94016  \n",
      "3           738 10th St, Los Angeles, CA 90001  \n",
      "4                387 10th St, Austin, TX 73301  \n",
      "...                                        ...  \n",
      "186845  14 Madison St, San Francisco, CA 94016  \n",
      "186846    549 Willow St, Los Angeles, CA 90001  \n",
      "186847        273 Wilson St, Seattle, WA 98101  \n",
      "186848          778 River St, Dallas, TX 75001  \n",
      "186849  747 Chestnut St, Los Angeles, CA 90001  \n",
      "\n",
      "[186305 rows x 5 columns]\n"
     ]
    }
   ],
   "source": [
    "print(our_data)"
   ]
  },
  {
   "cell_type": "markdown",
   "metadata": {},
   "source": [
    "### Question 4. Please make columns correct type: namely, make `Quantity Ordered` and `Price Each` as numeric data types."
   ]
  },
  {
   "cell_type": "code",
   "execution_count": 175,
   "metadata": {},
   "outputs": [
    {
     "name": "stdout",
     "output_type": "stream",
     "text": [
      "<class 'pandas.core.frame.DataFrame'>\n",
      "Index: 186305 entries, 0 to 186849\n",
      "Data columns (total 6 columns):\n",
      " #   Column            Non-Null Count   Dtype \n",
      "---  ------            --------------   ----- \n",
      " 0   Order ID          186305 non-null  object\n",
      " 1   Product           186305 non-null  object\n",
      " 2   Quantity Ordered  186305 non-null  object\n",
      " 3   Price Each        186305 non-null  object\n",
      " 4   Order Date        186305 non-null  object\n",
      " 5   Purchase Address  186305 non-null  object\n",
      "dtypes: object(6)\n",
      "memory usage: 9.9+ MB\n"
     ]
    }
   ],
   "source": [
    "our_data.info()"
   ]
  },
  {
   "cell_type": "code",
   "execution_count": 176,
   "metadata": {},
   "outputs": [
    {
     "name": "stdout",
     "output_type": "stream",
     "text": [
      "       Order ID                     Product Quantity Ordered Price Each  \\\n",
      "0        141234                      iPhone                1        700   \n",
      "1        141235    Lightning Charging Cable                1      14.95   \n",
      "2        141236            Wired Headphones                2      11.99   \n",
      "3        141237            27in FHD Monitor                1     149.99   \n",
      "4        141238            Wired Headphones                1      11.99   \n",
      "...         ...                         ...              ...        ...   \n",
      "186845   319666    Lightning Charging Cable                1      14.95   \n",
      "186846   319667       AA Batteries (4-pack)                2       3.84   \n",
      "186847   319668             Vareebadd Phone                1        400   \n",
      "186848   319669            Wired Headphones                1      11.99   \n",
      "186849   319670  Bose SoundSport Headphones                1      99.99   \n",
      "\n",
      "            Order Date                        Purchase Address  \n",
      "0       01/22/19 21:25         944 Walnut St, Boston, MA 02215  \n",
      "1       01/28/19 14:15        185 Maple St, Portland, OR 97035  \n",
      "2       01/17/19 13:33   538 Adams St, San Francisco, CA 94016  \n",
      "3       01/05/19 20:33      738 10th St, Los Angeles, CA 90001  \n",
      "4       01/25/19 11:59           387 10th St, Austin, TX 73301  \n",
      "...                ...                                     ...  \n",
      "186845  12/11/19 20:58  14 Madison St, San Francisco, CA 94016  \n",
      "186846  12/01/19 12:01    549 Willow St, Los Angeles, CA 90001  \n",
      "186847  12/09/19 06:43        273 Wilson St, Seattle, WA 98101  \n",
      "186848  12/03/19 10:39          778 River St, Dallas, TX 75001  \n",
      "186849  12/21/19 21:45  747 Chestnut St, Los Angeles, CA 90001  \n",
      "\n",
      "[186305 rows x 6 columns]\n"
     ]
    }
   ],
   "source": [
    "print(our_data)"
   ]
  },
  {
   "cell_type": "code",
   "execution_count": 178,
   "metadata": {
    "scrolled": true
   },
   "outputs": [
    {
     "name": "stdout",
     "output_type": "stream",
     "text": [
      "Order ID             object\n",
      "Product              object\n",
      "Quantity Ordered    float64\n",
      "Price Each          float64\n",
      "Order Date           object\n",
      "Purchase Address     object\n",
      "dtype: object\n"
     ]
    },
    {
     "name": "stderr",
     "output_type": "stream",
     "text": [
      "/var/folders/3x/bb4zz1_x2xj63kgdx9trqbsr0000gn/T/ipykernel_2183/3197743700.py:1: SettingWithCopyWarning: \n",
      "A value is trying to be set on a copy of a slice from a DataFrame.\n",
      "Try using .loc[row_indexer,col_indexer] = value instead\n",
      "\n",
      "See the caveats in the documentation: https://pandas.pydata.org/pandas-docs/stable/user_guide/indexing.html#returning-a-view-versus-a-copy\n",
      "  our_data['Quantity Ordered'] = pd.to_numeric(our_data['Quantity Ordered'], errors='coerce')\n",
      "/var/folders/3x/bb4zz1_x2xj63kgdx9trqbsr0000gn/T/ipykernel_2183/3197743700.py:3: SettingWithCopyWarning: \n",
      "A value is trying to be set on a copy of a slice from a DataFrame.\n",
      "Try using .loc[row_indexer,col_indexer] = value instead\n",
      "\n",
      "See the caveats in the documentation: https://pandas.pydata.org/pandas-docs/stable/user_guide/indexing.html#returning-a-view-versus-a-copy\n",
      "  our_data['Price Each'] = pd.to_numeric(our_data['Price Each'], errors='coerce')\n"
     ]
    }
   ],
   "source": [
    "our_data['Quantity Ordered'] = pd.to_numeric(our_data['Quantity Ordered'], errors='coerce')\n",
    "\n",
    "our_data['Price Each'] = pd.to_numeric(our_data['Price Each'], errors='coerce')\n",
    "\n",
    "# You can check the dtypes to confirm the change\n",
    "print(our_data.dtypes)"
   ]
  },
  {
   "cell_type": "code",
   "execution_count": 179,
   "metadata": {},
   "outputs": [
    {
     "name": "stdout",
     "output_type": "stream",
     "text": [
      "<class 'pandas.core.frame.DataFrame'>\n",
      "Index: 186305 entries, 0 to 186849\n",
      "Data columns (total 6 columns):\n",
      " #   Column            Non-Null Count   Dtype  \n",
      "---  ------            --------------   -----  \n",
      " 0   Order ID          186305 non-null  object \n",
      " 1   Product           186305 non-null  object \n",
      " 2   Quantity Ordered  185950 non-null  float64\n",
      " 3   Price Each        185950 non-null  float64\n",
      " 4   Order Date        186305 non-null  object \n",
      " 5   Purchase Address  186305 non-null  object \n",
      "dtypes: float64(2), object(4)\n",
      "memory usage: 9.9+ MB\n"
     ]
    }
   ],
   "source": [
    "our_data.info()"
   ]
  },
  {
   "cell_type": "markdown",
   "metadata": {},
   "source": [
    "### <font color=\"green\">***Let's create additional columns (variables) for your data exploration.</font>***"
   ]
  },
  {
   "cell_type": "markdown",
   "metadata": {},
   "source": [
    "### Question 5. Please add `Month` column: Create the `Month` from `Order Date` column"
   ]
  },
  {
   "cell_type": "code",
   "execution_count": 180,
   "metadata": {
    "scrolled": true
   },
   "outputs": [
    {
     "name": "stdout",
     "output_type": "stream",
     "text": [
      "       Order ID                     Product  Quantity Ordered  Price Each  \\\n",
      "0        141234                      iPhone               1.0      700.00   \n",
      "1        141235    Lightning Charging Cable               1.0       14.95   \n",
      "2        141236            Wired Headphones               2.0       11.99   \n",
      "3        141237            27in FHD Monitor               1.0      149.99   \n",
      "4        141238            Wired Headphones               1.0       11.99   \n",
      "...         ...                         ...               ...         ...   \n",
      "186845   319666    Lightning Charging Cable               1.0       14.95   \n",
      "186846   319667       AA Batteries (4-pack)               2.0        3.84   \n",
      "186847   319668             Vareebadd Phone               1.0      400.00   \n",
      "186848   319669            Wired Headphones               1.0       11.99   \n",
      "186849   319670  Bose SoundSport Headphones               1.0       99.99   \n",
      "\n",
      "            Order Date                        Purchase Address  \n",
      "0       01/22/19 21:25         944 Walnut St, Boston, MA 02215  \n",
      "1       01/28/19 14:15        185 Maple St, Portland, OR 97035  \n",
      "2       01/17/19 13:33   538 Adams St, San Francisco, CA 94016  \n",
      "3       01/05/19 20:33      738 10th St, Los Angeles, CA 90001  \n",
      "4       01/25/19 11:59           387 10th St, Austin, TX 73301  \n",
      "...                ...                                     ...  \n",
      "186845  12/11/19 20:58  14 Madison St, San Francisco, CA 94016  \n",
      "186846  12/01/19 12:01    549 Willow St, Los Angeles, CA 90001  \n",
      "186847  12/09/19 06:43        273 Wilson St, Seattle, WA 98101  \n",
      "186848  12/03/19 10:39          778 River St, Dallas, TX 75001  \n",
      "186849  12/21/19 21:45  747 Chestnut St, Los Angeles, CA 90001  \n",
      "\n",
      "[186305 rows x 6 columns]\n"
     ]
    }
   ],
   "source": [
    "print(our_data)"
   ]
  },
  {
   "cell_type": "code",
   "execution_count": 181,
   "metadata": {},
   "outputs": [
    {
     "name": "stdout",
     "output_type": "stream",
     "text": [
      "<class 'pandas.core.frame.DataFrame'>\n",
      "Index: 186305 entries, 0 to 186849\n",
      "Data columns (total 6 columns):\n",
      " #   Column            Non-Null Count   Dtype  \n",
      "---  ------            --------------   -----  \n",
      " 0   Order ID          186305 non-null  object \n",
      " 1   Product           186305 non-null  object \n",
      " 2   Quantity Ordered  185950 non-null  float64\n",
      " 3   Price Each        185950 non-null  float64\n",
      " 4   Order Date        186305 non-null  object \n",
      " 5   Purchase Address  186305 non-null  object \n",
      "dtypes: float64(2), object(4)\n",
      "memory usage: 9.9+ MB\n"
     ]
    }
   ],
   "source": [
    "our_data.info()"
   ]
  },
  {
   "cell_type": "code",
   "execution_count": 182,
   "metadata": {},
   "outputs": [
    {
     "name": "stdout",
     "output_type": "stream",
     "text": [
      "Index(['Order ID', 'Product', 'Quantity Ordered', 'Price Each', 'Order Date',\n",
      "       'Purchase Address'],\n",
      "      dtype='object')\n"
     ]
    }
   ],
   "source": [
    "print(our_data.columns)"
   ]
  },
  {
   "cell_type": "code",
   "execution_count": 183,
   "metadata": {
    "scrolled": true
   },
   "outputs": [
    {
     "name": "stderr",
     "output_type": "stream",
     "text": [
      "/var/folders/3x/bb4zz1_x2xj63kgdx9trqbsr0000gn/T/ipykernel_2183/3762208128.py:1: SettingWithCopyWarning: \n",
      "A value is trying to be set on a copy of a slice from a DataFrame.\n",
      "Try using .loc[row_indexer,col_indexer] = value instead\n",
      "\n",
      "See the caveats in the documentation: https://pandas.pydata.org/pandas-docs/stable/user_guide/indexing.html#returning-a-view-versus-a-copy\n",
      "  our_data['Order Date'] =\\\n"
     ]
    }
   ],
   "source": [
    "our_data['Order Date'] =\\\n",
    "    our_data['Order Date']\\\n",
    "    .astype(str)"
   ]
  },
  {
   "cell_type": "code",
   "execution_count": 184,
   "metadata": {},
   "outputs": [
    {
     "name": "stdout",
     "output_type": "stream",
     "text": [
      "  Order ID                   Product  Quantity Ordered  Price Each  \\\n",
      "0   141234                    iPhone               1.0      700.00   \n",
      "1   141235  Lightning Charging Cable               1.0       14.95   \n",
      "2   141236          Wired Headphones               2.0       11.99   \n",
      "3   141237          27in FHD Monitor               1.0      149.99   \n",
      "4   141238          Wired Headphones               1.0       11.99   \n",
      "\n",
      "       Order Date                       Purchase Address Month  \n",
      "0  01/22/19 21:25        944 Walnut St, Boston, MA 02215    01  \n",
      "1  01/28/19 14:15       185 Maple St, Portland, OR 97035    01  \n",
      "2  01/17/19 13:33  538 Adams St, San Francisco, CA 94016    01  \n",
      "3  01/05/19 20:33     738 10th St, Los Angeles, CA 90001    01  \n",
      "4  01/25/19 11:59          387 10th St, Austin, TX 73301    01  \n"
     ]
    },
    {
     "name": "stderr",
     "output_type": "stream",
     "text": [
      "/var/folders/3x/bb4zz1_x2xj63kgdx9trqbsr0000gn/T/ipykernel_2183/1445058601.py:1: SettingWithCopyWarning: \n",
      "A value is trying to be set on a copy of a slice from a DataFrame.\n",
      "Try using .loc[row_indexer,col_indexer] = value instead\n",
      "\n",
      "See the caveats in the documentation: https://pandas.pydata.org/pandas-docs/stable/user_guide/indexing.html#returning-a-view-versus-a-copy\n",
      "  our_data['Month'] =\\\n"
     ]
    }
   ],
   "source": [
    "our_data['Month'] =\\\n",
    "    our_data['Order Date']\\\n",
    "    .str.split('/')\\\n",
    "    .str[0]\n",
    "\n",
    "\n",
    "print(our_data.head())"
   ]
  },
  {
   "cell_type": "markdown",
   "metadata": {},
   "source": [
    "### Question 6. Please add `City` column: Create the `City` from `Purchase Address` column"
   ]
  },
  {
   "cell_type": "code",
   "execution_count": 185,
   "metadata": {},
   "outputs": [
    {
     "name": "stdout",
     "output_type": "stream",
     "text": [
      "  Order ID                   Product  Quantity Ordered  Price Each  \\\n",
      "0   141234                    iPhone               1.0      700.00   \n",
      "1   141235  Lightning Charging Cable               1.0       14.95   \n",
      "2   141236          Wired Headphones               2.0       11.99   \n",
      "3   141237          27in FHD Monitor               1.0      149.99   \n",
      "4   141238          Wired Headphones               1.0       11.99   \n",
      "\n",
      "       Order Date                       Purchase Address Month           City  \n",
      "0  01/22/19 21:25        944 Walnut St, Boston, MA 02215    01         Boston  \n",
      "1  01/28/19 14:15       185 Maple St, Portland, OR 97035    01       Portland  \n",
      "2  01/17/19 13:33  538 Adams St, San Francisco, CA 94016    01  San Francisco  \n",
      "3  01/05/19 20:33     738 10th St, Los Angeles, CA 90001    01    Los Angeles  \n",
      "4  01/25/19 11:59          387 10th St, Austin, TX 73301    01         Austin  \n"
     ]
    },
    {
     "name": "stderr",
     "output_type": "stream",
     "text": [
      "/var/folders/3x/bb4zz1_x2xj63kgdx9trqbsr0000gn/T/ipykernel_2183/1295053096.py:1: SettingWithCopyWarning: \n",
      "A value is trying to be set on a copy of a slice from a DataFrame.\n",
      "Try using .loc[row_indexer,col_indexer] = value instead\n",
      "\n",
      "See the caveats in the documentation: https://pandas.pydata.org/pandas-docs/stable/user_guide/indexing.html#returning-a-view-versus-a-copy\n",
      "  our_data[['Street', 'City', 'State_Zip']] =\\\n",
      "/var/folders/3x/bb4zz1_x2xj63kgdx9trqbsr0000gn/T/ipykernel_2183/1295053096.py:1: SettingWithCopyWarning: \n",
      "A value is trying to be set on a copy of a slice from a DataFrame.\n",
      "Try using .loc[row_indexer,col_indexer] = value instead\n",
      "\n",
      "See the caveats in the documentation: https://pandas.pydata.org/pandas-docs/stable/user_guide/indexing.html#returning-a-view-versus-a-copy\n",
      "  our_data[['Street', 'City', 'State_Zip']] =\\\n",
      "/var/folders/3x/bb4zz1_x2xj63kgdx9trqbsr0000gn/T/ipykernel_2183/1295053096.py:1: SettingWithCopyWarning: \n",
      "A value is trying to be set on a copy of a slice from a DataFrame.\n",
      "Try using .loc[row_indexer,col_indexer] = value instead\n",
      "\n",
      "See the caveats in the documentation: https://pandas.pydata.org/pandas-docs/stable/user_guide/indexing.html#returning-a-view-versus-a-copy\n",
      "  our_data[['Street', 'City', 'State_Zip']] =\\\n",
      "/var/folders/3x/bb4zz1_x2xj63kgdx9trqbsr0000gn/T/ipykernel_2183/1295053096.py:6: SettingWithCopyWarning: \n",
      "A value is trying to be set on a copy of a slice from a DataFrame.\n",
      "Try using .loc[row_indexer,col_indexer] = value instead\n",
      "\n",
      "See the caveats in the documentation: https://pandas.pydata.org/pandas-docs/stable/user_guide/indexing.html#returning-a-view-versus-a-copy\n",
      "  our_data['City'] =\\\n",
      "/var/folders/3x/bb4zz1_x2xj63kgdx9trqbsr0000gn/T/ipykernel_2183/1295053096.py:11: SettingWithCopyWarning: \n",
      "A value is trying to be set on a copy of a slice from a DataFrame\n",
      "\n",
      "See the caveats in the documentation: https://pandas.pydata.org/pandas-docs/stable/user_guide/indexing.html#returning-a-view-versus-a-copy\n",
      "  our_data.drop(['Street', 'State_Zip'], axis=1, inplace=True)\n"
     ]
    }
   ],
   "source": [
    "our_data[['Street', 'City', 'State_Zip']] =\\\n",
    "    our_data['Purchase Address']\\\n",
    "    .str\\\n",
    "    .split(',', expand=True)\n",
    "\n",
    "our_data['City'] =\\\n",
    "    our_data['City']\\\n",
    "    .str\\\n",
    "    .strip()\n",
    "\n",
    "our_data.drop(['Street', 'State_Zip'], axis=1, inplace=True)\n",
    "\n",
    "print(our_data.head())"
   ]
  },
  {
   "cell_type": "markdown",
   "metadata": {},
   "source": [
    "### <font color=\"green\">***Now, let's explore our data***</font>"
   ]
  },
  {
   "cell_type": "markdown",
   "metadata": {},
   "source": [
    "### Question 7: What was the best month for the business? How much was earned that month? Please use `Quantity Ordered` and `Price Each` columns to create a new column (variable) `Gross Revenue`."
   ]
  },
  {
   "cell_type": "code",
   "execution_count": 186,
   "metadata": {},
   "outputs": [
    {
     "data": {
      "text/plain": [
       "Order ID             object\n",
       "Product              object\n",
       "Quantity Ordered    float64\n",
       "Price Each          float64\n",
       "Order Date           object\n",
       "Purchase Address     object\n",
       "Month                object\n",
       "City                 object\n",
       "dtype: object"
      ]
     },
     "execution_count": 186,
     "metadata": {},
     "output_type": "execute_result"
    }
   ],
   "source": [
    "our_data.dtypes"
   ]
  },
  {
   "cell_type": "code",
   "execution_count": 188,
   "metadata": {
    "scrolled": true
   },
   "outputs": [
    {
     "name": "stdout",
     "output_type": "stream",
     "text": [
      "12\n"
     ]
    },
    {
     "name": "stderr",
     "output_type": "stream",
     "text": [
      "/var/folders/3x/bb4zz1_x2xj63kgdx9trqbsr0000gn/T/ipykernel_2183/220230994.py:1: SettingWithCopyWarning: \n",
      "A value is trying to be set on a copy of a slice from a DataFrame.\n",
      "Try using .loc[row_indexer,col_indexer] = value instead\n",
      "\n",
      "See the caveats in the documentation: https://pandas.pydata.org/pandas-docs/stable/user_guide/indexing.html#returning-a-view-versus-a-copy\n",
      "  our_data['Gross Revenue'] = our_data['Quantity Ordered']*our_data['Price Each']\n"
     ]
    }
   ],
   "source": [
    "our_data['Gross Revenue'] = our_data['Quantity Ordered']*our_data['Price Each']\n",
    "\n",
    "monthly_revenue =\\\n",
    "    our_data\\\n",
    "    .groupby('Month')['Gross Revenue']\\\n",
    "    .sum()\n",
    "\n",
    "best_month_revenue =\\\n",
    "    monthly_revenue\\\n",
    "    .max()\n",
    "\n",
    "best_month =\\\n",
    "    monthly_revenue\\\n",
    "    .idxmax()\n",
    "\n",
    "print(best_month)"
   ]
  },
  {
   "cell_type": "markdown",
   "metadata": {},
   "source": [
    "### Question 8. Please create a vertical bar plot that summarizes the `monthly` `gross revenue`."
   ]
  },
  {
   "cell_type": "code",
   "execution_count": 189,
   "metadata": {},
   "outputs": [
    {
     "data": {
      "image/png": "[encoded data removed]",
      "text/plain": [
       "<Figure size 640x480 with 1 Axes>"
      ]
     },
     "metadata": {},
     "output_type": "display_data"
    }
   ],
   "source": [
    "monthly_revenue.plot.bar()\n",
    "\n",
    "plt.title('Monthly Gross Revenue')\n",
    "plt.xlabel('Month')\n",
    "plt.ylabel('Gross Revenue')\n",
    "\n",
    "plt.show()"
   ]
  },
  {
   "cell_type": "markdown",
   "metadata": {},
   "source": [
    "### Question 9: What `City` sold the most product based on `Quantity Ordered` and `Gross Revenue`?"
   ]
  },
  {
   "cell_type": "code",
   "execution_count": 190,
   "metadata": {},
   "outputs": [],
   "source": [
    "city_soldprod =\\\n",
    "    our_data.groupby('City')['Quantity Ordered']\\\n",
    "    .sum()\n",
    "\n",
    "city_revenue =\\\n",
    "    our_data.groupby('City')['Gross Revenue']\\\n",
    "    .sum()"
   ]
  },
  {
   "cell_type": "code",
   "execution_count": 193,
   "metadata": {},
   "outputs": [
    {
     "name": "stdout",
     "output_type": "stream",
     "text": [
      "San Francisco 50239.0\n"
     ]
    }
   ],
   "source": [
    "top_city_soldprod =\\\n",
    "    city_soldprod\\\n",
    "    .idxmax()\n",
    "\n",
    "top_city_soldprod_value =\\\n",
    "    city_soldprod\\\n",
    "    .max()\n",
    "\n",
    "print(top_city_soldprod,top_city_soldprod_value)"
   ]
  },
  {
   "cell_type": "code",
   "execution_count": 194,
   "metadata": {},
   "outputs": [
    {
     "name": "stdout",
     "output_type": "stream",
     "text": [
      "San Francisco 8262203.91\n"
     ]
    }
   ],
   "source": [
    "top_city_revenue =\\\n",
    "    city_revenue\\\n",
    "    .idxmax()\n",
    "\n",
    "top_city_revenue_value =\\\n",
    "    city_revenue\\\n",
    "    .max()\n",
    "\n",
    "print(top_city_revenue, top_city_revenue_value)"
   ]
  },
  {
   "cell_type": "markdown",
   "metadata": {},
   "source": [
    "### Question 10. Please visualize the above results with `horizontal` bar plot."
   ]
  },
  {
   "cell_type": "code",
   "execution_count": 196,
   "metadata": {},
   "outputs": [
    {
     "ename": "AttributeError",
     "evalue": "'float' object has no attribute 'plot'",
     "output_type": "error",
     "traceback": [
      "\u001b[0;31m---------------------------------------------------------------------------\u001b[0m",
      "\u001b[0;31mAttributeError\u001b[0m                            Traceback (most recent call last)",
      "Cell \u001b[0;32mIn[196], line 1\u001b[0m\n\u001b[0;32m----> 1\u001b[0m top_city_revenue_value\u001b[38;5;241m.\u001b[39mplot\u001b[38;5;241m.\u001b[39mbar()\n\u001b[1;32m      2\u001b[0m plt\u001b[38;5;241m.\u001b[39mtitle(\u001b[38;5;124m'\u001b[39m\u001b[38;5;124mTop City Revenue\u001b[39m\u001b[38;5;124m'\u001b[39m)\n\u001b[1;32m      3\u001b[0m plt\u001b[38;5;241m.\u001b[39mxlabel(\u001b[38;5;124m'\u001b[39m\u001b[38;5;124mRevenue ($)\u001b[39m\u001b[38;5;124m'\u001b[39m)\n",
      "\u001b[0;31mAttributeError\u001b[0m: 'float' object has no attribute 'plot'"
     ]
    }
   ],
   "source": [
    "top_city_revenue_value.plot.bar()\n",
    "plt.title('Top City Revenue')\n",
    "plt.xlabel('Revenue ($)')\n",
    "plt.ylabel('Month')\n",
    "plt.grid(axis='y')\n",
    "\n",
    "plt.show()"
   ]
  },
  {
   "cell_type": "markdown",
   "metadata": {},
   "source": [
    "### Question 11: What time should we display ads to maximize likelihood of customer's buying product? Please create a new variable `Hour` from column `Order Date`"
   ]
  },
  {
   "cell_type": "code",
   "execution_count": null,
   "metadata": {},
   "outputs": [],
   "source": []
  },
  {
   "cell_type": "markdown",
   "metadata": {},
   "source": [
    "### Question 12. Please visualize the results of your analysis above."
   ]
  },
  {
   "cell_type": "code",
   "execution_count": null,
   "metadata": {},
   "outputs": [],
   "source": []
  },
  {
   "cell_type": "markdown",
   "metadata": {},
   "source": [
    "### <font color=\"green\">\"Thank you for putting your efforts into the exercise questions\"</font>"
   ]
  }
 ],
 "metadata": {
  "kernelspec": {
   "display_name": "Python 3 (ipykernel)",
   "language": "python",
   "name": "python3"
  },
  "language_info": {
   "codemirror_mode": {
    "name": "ipython",
    "version": 3
   },
   "file_extension": ".py",
   "mimetype": "text/x-python",
   "name": "python",
   "nbconvert_exporter": "python",
   "pygments_lexer": "ipython3",
   "version": "3.11.5"
  }
 },
 "nbformat": 4,
 "nbformat_minor": 4
}
